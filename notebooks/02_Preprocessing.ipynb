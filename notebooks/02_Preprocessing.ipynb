{
 "cells": [
  {
   "cell_type": "markdown",
   "id": "9ba88feb",
   "metadata": {},
   "source": [
    "## Data Preprocessing"
   ]
  },
  {
   "cell_type": "markdown",
   "id": "12a1f65f",
   "metadata": {},
   "source": [
    "### 1.Data Ingestion"
   ]
  },
  {
   "cell_type": "code",
   "execution_count": 10,
   "id": "4e4d3172",
   "metadata": {},
   "outputs": [],
   "source": [
    "import pandas as pd\n",
    "from sklearn.preprocessing import StandardScaler\n",
    "import os"
   ]
  },
  {
   "cell_type": "code",
   "execution_count": null,
   "id": "08090e17",
   "metadata": {},
   "outputs": [
    {
     "name": "stdout",
     "output_type": "stream",
     "text": [
      "D:\\GitHub\\Churn Prediction and Customer Segmentation\n"
     ]
    }
   ],
   "source": [
    "os.chdir('D:\\\\GitHub\\\\Churn Prediction and Customer Segmentation')\n",
    "df = pd.read_csv('data\\\\raw\\\\telcom_behavior.csv')"
   ]
  },
  {
   "cell_type": "markdown",
   "id": "d9c490f8",
   "metadata": {},
   "source": [
    "### 2.Data Cleaning"
   ]
  },
  {
   "cell_type": "code",
   "execution_count": 13,
   "id": "8b6ad8c3",
   "metadata": {},
   "outputs": [],
   "source": [
    "# Drop rows with critical nulls\n",
    "df.dropna(inplace=True)"
   ]
  },
  {
   "cell_type": "markdown",
   "id": "09f26956",
   "metadata": {},
   "source": [
    "### 3.Data Transform"
   ]
  },
  {
   "cell_type": "code",
   "execution_count": 14,
   "id": "5ad7c841",
   "metadata": {},
   "outputs": [],
   "source": [
    "# Strip whitespace\n",
    "df.columns = df.columns.str.strip().str.replace(' ', '_')\n",
    "\n",
    "# Float to integer datatypes to necessary columns\n",
    "cols = ['CustomerID', 'Age', 'Tenure', 'Usage_Frequency', 'Support_Calls', \n",
    "    'Payment_Delay', 'Last_Interaction', 'Churn']\n",
    "for col in cols:\n",
    "    df[col] = pd.to_numeric(df[col], errors='coerce').fillna(0).astype(int)\n",
    "\n",
    "sub = {'Basic':1, 'Standard': 2, 'Premium': 3}\n",
    "df['Subscription_Type'] = df['Subscription_Type'].map(sub)\n",
    "\n",
    "con = {'Monthly': 1, 'Quarterly': 2, 'Annual': 3}\n",
    "df['Contract_Length'] = df['Contract_Length'].map(con)\n",
    "\n",
    "gen = {'Female': 0, 'Male': 1}\n",
    "df['Gender'] = df['Gender'].map(gen)\n",
    "\n",
    "features = ['Age', 'Gender', 'Tenure', 'Usage_Frequency', 'Support_Calls', 'Last_Interaction',\n",
    "            'Payment_Delay', 'Subscription_Type', 'Total_Spend', 'Contract_Length']\n",
    "\n",
    "X = df[features]\n",
    "y = df['Churn']\n",
    "\n",
    "scaler = StandardScaler()\n",
    "X_scaled = scaler.fit_transform(X)\n",
    "\n",
    "# Return preprocessed + a DataFrame version for clustering\n",
    "df_scaled = pd.DataFrame(X_scaled, columns=features)"
   ]
  },
  {
   "cell_type": "markdown",
   "id": "d6bd673d",
   "metadata": {},
   "source": [
    "### 4.Data Loading"
   ]
  },
  {
   "cell_type": "code",
   "execution_count": 15,
   "id": "84bf746e",
   "metadata": {},
   "outputs": [],
   "source": [
    "df.head().to_csv('data/processed/cleaned_df.csv', index=False)\n",
    "df_scaled.head().to_csv('data/processed/scaled_df.csv', index=False)"
   ]
  }
 ],
 "metadata": {
  "kernelspec": {
   "display_name": ".venv",
   "language": "python",
   "name": "python3"
  },
  "language_info": {
   "codemirror_mode": {
    "name": "ipython",
    "version": 3
   },
   "file_extension": ".py",
   "mimetype": "text/x-python",
   "name": "python",
   "nbconvert_exporter": "python",
   "pygments_lexer": "ipython3",
   "version": "3.13.5"
  }
 },
 "nbformat": 4,
 "nbformat_minor": 5
}
