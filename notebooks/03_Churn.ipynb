{
 "cells": [
  {
   "cell_type": "markdown",
   "id": "f860bc2b",
   "metadata": {},
   "source": [
    "## Churn Prediction Model"
   ]
  },
  {
   "cell_type": "code",
   "execution_count": null,
   "id": "d1070729",
   "metadata": {},
   "outputs": [],
   "source": [
    "from sklearn.ensemble import RandomForestClassifier\n",
    "from sklearn.linear_model import LogisticRegression\n",
    "from sklearn.model_selection import train_test_split, GridSearchCV, StratifiedKFold\n",
    "from sklearn.metrics import classification_report, accuracy_score, f1_score\n",
    "import numpy as np\n",
    "import pandas as pd\n",
    "import os\n",
    "import joblib"
   ]
  },
  {
   "cell_type": "code",
   "execution_count": null,
   "id": "e8744b67",
   "metadata": {},
   "outputs": [],
   "source": [
    "os.chdir('D:\\\\GitHub\\\\Churn Prediction and Customer Segmentation')\n",
    "X = pd.read_csv('data\\\\processed\\\\scaled_df.csv')\n",
    "df = pd.read_csv('data\\\\raw\\\\telcom_behavior.csv')\n",
    "y = df['Churn']"
   ]
  },
  {
   "cell_type": "code",
   "execution_count": null,
   "id": "9ce318e9",
   "metadata": {},
   "outputs": [],
   "source": [
    "X_temp, X_test, y_temp, y_test = train_test_split(X, y, test_size=0.2, stratify=y, random_state=42)\n",
    "X_train, X_val, y_train, y_val = train_test_split(X_temp, y_temp, test_size=0.25, stratify=y_temp, random_state=42)\n",
    "\n",
    "print(f\"🔹 Split: Train={len(X_train)}, Val={len(X_val)}, Test={len(X_test)}\")"
   ]
  },
  {
   "cell_type": "markdown",
   "id": "c2b7b51a",
   "metadata": {},
   "source": [
    "### Logistic Regression"
   ]
  },
  {
   "cell_type": "code",
   "execution_count": null,
   "id": "5a8405b5",
   "metadata": {},
   "outputs": [],
   "source": [
    " # Baseline Model\n",
    "baseline = LogisticRegression(max_iter=500)\n",
    "baseline.fit(X_train, y_train)\n",
    "y_pred_base = baseline.predict(X_val)\n",
    "print(\"\\n📊 Baseline (Logistic Regression) on Validation Set:\")\n",
    "print(f'Classification Report: {classification_report(y_val, y_pred_base)}')\n",
    "print(f'Accuracy Score: {accuracy_score(y_val, y_pred_base):.2f}')\n",
    "print(f'f1 Score: {f1_score(y_val, y_pred_base):.2f}')"
   ]
  },
  {
   "cell_type": "code",
   "execution_count": null,
   "id": "c3dd9d27",
   "metadata": {},
   "outputs": [],
   "source": [
    "# Combine train + val for tuning\n",
    "X_trainval = np.vstack([X_train, X_val])\n",
    "y_trainval = np.concatenate([y_train, y_val])"
   ]
  },
  {
   "cell_type": "markdown",
   "id": "187fcb7d",
   "metadata": {},
   "source": [
    "### Random Forest"
   ]
  },
  {
   "cell_type": "code",
   "execution_count": null,
   "id": "78e824f6",
   "metadata": {},
   "outputs": [],
   "source": [
    "rf = RandomForestClassifier(random_state=42)\n",
    "param_grid = {\n",
    "    'n_estimators': [50, 100, 200, 300],\n",
    "    'max_depth': [5, 10, 20, None],\n",
    "    'min_samples_split': [2, 5, 7, 9],\n",
    "    'min_samples_leaf': [1, 2, 5, 10],\n",
    "    'max_features': ['sqrt', 'log2']\n",
    "}\n",
    "\n",
    "skf = StratifiedKFold(n_splits=3, shuffle=True, random_state=42)\n",
    "\n",
    "grid = GridSearchCV(\n",
    "    rf,\n",
    "    param_grid,\n",
    "    scoring='f1',\n",
    "    cv=skf,\n",
    "    n_jobs=-1,\n",
    "    verbose=1\n",
    ")\n",
    "\n",
    "grid.fit(X_trainval, y_trainval)\n",
    "\n",
    "best_model = grid.best_estimator_\n",
    "\n",
    "print(\"\\n✅ Best Hyperparameters:\")\n",
    "for k, v in grid.best_params_.items():\n",
    "    print(f\"  {k}: {v}\")\n",
    "\n",
    "y_pred_test = best_model.predict(X_test)\n",
    "print(\"\\n📊 Final Test Evaluation:\")\n",
    "print(classification_report(y_test, y_pred_test))\n",
    "print(f\"Accuracy: {accuracy_score(y_test, y_pred_test):.2f}\")\n",
    "print(f\"F1 Score: {f1_score(y_test, y_pred_test):.2f}\")"
   ]
  },
  {
   "cell_type": "code",
   "execution_count": null,
   "id": "c4a708dc",
   "metadata": {},
   "outputs": [],
   "source": [
    "joblib.dump(best_model, 'models/churn_prediction_model.pkl', compress=3)\n",
    "print(\"✅ Model saved to: models/churn_model.pkl\")"
   ]
  }
 ],
 "metadata": {
  "language_info": {
   "name": "python"
  }
 },
 "nbformat": 4,
 "nbformat_minor": 5
}
