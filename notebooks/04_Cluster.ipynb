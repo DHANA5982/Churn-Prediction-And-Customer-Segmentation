{
 "cells": [
  {
   "cell_type": "markdown",
   "id": "de3f4306",
   "metadata": {},
   "source": [
    "## Customer Segmentation Model"
   ]
  },
  {
   "cell_type": "code",
   "execution_count": null,
   "id": "36ead45c",
   "metadata": {},
   "outputs": [],
   "source": [
    "from sklearn.cluster import KMeans\n",
    "import matplotlib.pyplot as plt\n",
    "import pandas as pd\n",
    "import os"
   ]
  },
  {
   "cell_type": "code",
   "execution_count": null,
   "id": "270db657",
   "metadata": {},
   "outputs": [],
   "source": [
    "os.chdir('D:\\\\GitHub\\\\Churn Prediction and Customer Segmentation')\n",
    "df_scaled = pd.read_csv('data\\\\processed\\\\scaled_df.csv')"
   ]
  },
  {
   "cell_type": "code",
   "execution_count": null,
   "id": "4e8b9296",
   "metadata": {},
   "outputs": [],
   "source": [
    "kmeans = KMeans(n_clusters=4, random_state=42)\n",
    "df_scaled['Segment'] = kmeans.fit_predict(df_scaled)\n",
    "\n",
    "# Save segment chart\n",
    "df_scaled['Segment'].value_counts().plot(kind='bar', title='Segment Distribution')\n",
    "plt.savefig('output/charts/segment_distribution.png')\n",
    "\n",
    "# Save cluster profiles\n",
    "segment_profiles = df_scaled.groupby('Segment').mean()\n",
    "segment_profiles.to_csv('data/cluster/segment_profiles.csv')\n"
   ]
  }
 ],
 "metadata": {
  "kernelspec": {
   "display_name": ".venv",
   "language": "python",
   "name": "python3"
  },
  "language_info": {
   "name": "python",
   "version": "3.13.5"
  }
 },
 "nbformat": 4,
 "nbformat_minor": 5
}
