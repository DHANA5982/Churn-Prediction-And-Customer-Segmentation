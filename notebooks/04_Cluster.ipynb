{
 "cells": [
  {
   "cell_type": "markdown",
   "id": "de3f4306",
   "metadata": {},
   "source": [
    "## Customer Segmentation Model"
   ]
  },
  {
   "cell_type": "code",
   "execution_count": null,
   "id": "36ead45c",
   "metadata": {},
   "outputs": [],
   "source": [
    "from sklearn.pipeline import Pipeline\n",
    "from sklearn.preprocessing import StandardScaler\n",
    "from sklearn.cluster import KMeans\n",
    "import matplotlib.pyplot as plt\n",
    "import pandas as pd\n",
    "import os"
   ]
  },
  {
   "cell_type": "code",
   "execution_count": null,
   "id": "270db657",
   "metadata": {},
   "outputs": [],
   "source": [
    "os.chdir('D:\\\\GitHub\\\\Churn Prediction and Customer Segmentation')\n",
    "df = pd.read_csv('data\\\\processed\\\\cleaned_df.csv')\n",
    "\n",
    "features = ['Age', 'Gender', 'Tenure', 'Usage_Frequency', 'Support_Calls', 'Last_Interaction',\n",
    "            'Payment_Delay', 'Subscription_Type', 'Total_Spend', 'Contract_Length']\n",
    "\n",
    "X = df[features]"
   ]
  },
  {
   "cell_type": "code",
   "execution_count": null,
   "id": "8f023bbf",
   "metadata": {},
   "outputs": [],
   "source": [
    "pipeline = Pipeline([\n",
    "    ('scaler', StandardScaler()),\n",
    "    ('kmeans', KMeans(n_clusters=4, random_state=42))\n",
    "])"
   ]
  },
  {
   "cell_type": "code",
   "execution_count": null,
   "id": "4e8b9296",
   "metadata": {},
   "outputs": [],
   "source": [
    "X['Cluster'] = pipeline.fit_predict(X)\n",
    "\n",
    "# Save segment chart\n",
    "X['Cluster'].value_counts().plot(kind='bar', title='Segment Distribution')\n",
    "plt.savefig('output/charts/segment_distribution.png')\n",
    "\n",
    "# Save cluster profiles\n",
    "segment_profiles = X.groupby('Cluster').mean()\n",
    "segment_profiles.to_csv('data/cluster/segment_profiles.csv')\n"
   ]
  }
 ],
 "metadata": {
  "kernelspec": {
   "display_name": ".venv",
   "language": "python",
   "name": "python3"
  },
  "language_info": {
   "codemirror_mode": {
    "name": "ipython",
    "version": 3
   },
   "file_extension": ".py",
   "mimetype": "text/x-python",
   "name": "python",
   "nbconvert_exporter": "python",
   "pygments_lexer": "ipython3",
   "version": "3.13.5"
  }
 },
 "nbformat": 4,
 "nbformat_minor": 5
}
